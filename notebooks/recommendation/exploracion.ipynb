{
 "cells": [
  {
   "metadata": {
    "ExecuteTime": {
     "end_time": "2025-02-17T01:29:38.057789Z",
     "start_time": "2025-02-17T01:29:38.050792Z"
    }
   },
   "cell_type": "code",
   "source": [
    "import pandas as pd\n",
    "import os\n",
    "import numpy as np\n",
    "from sklearn.model_selection import train_test_split"
   ],
   "id": "b91ad01062080938",
   "outputs": [],
   "execution_count": 3
  },
  {
   "cell_type": "code",
   "id": "initial_id",
   "metadata": {
    "collapsed": true,
    "ExecuteTime": {
     "end_time": "2025-02-17T01:50:47.353655Z",
     "start_time": "2025-02-17T01:50:47.335663Z"
    }
   },
   "source": [
    "\n",
    "# Cargar el dataset\n",
    "import os\n",
    "for dirname, _, filenames in os.walk('../../data/input/recomendation'):\n",
    "    for filename in filenames:\n",
    "        print(os.path.join(dirname, filename))"
   ],
   "outputs": [
    {
     "name": "stdout",
     "output_type": "stream",
     "text": [
      "../../data/input/recomendation\\Air Conditioners.csv\n",
      "../../data/input/recomendation\\All Appliances.csv\n",
      "../../data/input/recomendation\\All Books.csv\n",
      "../../data/input/recomendation\\All Car and Motorbike Products.csv\n",
      "../../data/input/recomendation\\All Electronics.csv\n",
      "../../data/input/recomendation\\All English.csv\n",
      "../../data/input/recomendation\\All Exercise and Fitness.csv\n",
      "../../data/input/recomendation\\All Grocery and Gourmet Foods.csv\n",
      "../../data/input/recomendation\\All Hindi.csv\n",
      "../../data/input/recomendation\\All Home and Kitchen.csv\n",
      "../../data/input/recomendation\\All Movies and TV Shows.csv\n",
      "../../data/input/recomendation\\All Music.csv\n",
      "../../data/input/recomendation\\All Pet Supplies.csv\n",
      "../../data/input/recomendation\\All Sports Fitness and Outdoors.csv\n",
      "../../data/input/recomendation\\All Video Games.csv\n",
      "../../data/input/recomendation\\Amazon Fashion.csv\n",
      "../../data/input/recomendation\\Amazon Pharmacy.csv\n",
      "../../data/input/recomendation\\Amazon-Products.csv\n",
      "../../data/input/recomendation\\archive.zip\n",
      "../../data/input/recomendation\\Baby Bath Skin and Grooming.csv\n",
      "../../data/input/recomendation\\Baby Fashion.csv\n",
      "../../data/input/recomendation\\Baby Products.csv\n",
      "../../data/input/recomendation\\Backpacks.csv\n",
      "../../data/input/recomendation\\Badminton.csv\n",
      "../../data/input/recomendation\\Bags and Luggage.csv\n",
      "../../data/input/recomendation\\Ballerinas.csv\n",
      "../../data/input/recomendation\\Beauty and Grooming.csv\n",
      "../../data/input/recomendation\\Bedroom Linen.csv\n",
      "../../data/input/recomendation\\Blu-ray.csv\n",
      "../../data/input/recomendation\\Camera Accessories.csv\n",
      "../../data/input/recomendation\\Cameras.csv\n",
      "../../data/input/recomendation\\Camping and Hiking.csv\n",
      "../../data/input/recomendation\\Car Accessories.csv\n",
      "../../data/input/recomendation\\Car and Bike Care.csv\n",
      "../../data/input/recomendation\\Car Electronics.csv\n",
      "../../data/input/recomendation\\Car Parts.csv\n",
      "../../data/input/recomendation\\Cardio Equipment.csv\n",
      "../../data/input/recomendation\\Casual Shoes.csv\n",
      "../../data/input/recomendation\\Childrens Books.csv\n",
      "../../data/input/recomendation\\Clothing.csv\n",
      "../../data/input/recomendation\\Coffee Tea and Beverages.csv\n",
      "../../data/input/recomendation\\Cricket.csv\n",
      "../../data/input/recomendation\\Cycling.csv\n",
      "../../data/input/recomendation\\Diapers.csv\n",
      "../../data/input/recomendation\\Diet and Nutrition.csv\n",
      "../../data/input/recomendation\\Dog supplies.csv\n",
      "../../data/input/recomendation\\Entertainment Collectibles.csv\n",
      "../../data/input/recomendation\\Ethnic Wear.csv\n",
      "../../data/input/recomendation\\Exam Central.csv\n",
      "../../data/input/recomendation\\Fashion and Silver Jewellery.csv\n",
      "../../data/input/recomendation\\Fashion Sales and Deals.csv\n",
      "../../data/input/recomendation\\Fashion Sandals.csv\n",
      "../../data/input/recomendation\\Fiction Books.csv\n",
      "../../data/input/recomendation\\Film Songs.csv\n",
      "../../data/input/recomendation\\Fine Art.csv\n",
      "../../data/input/recomendation\\Fitness Accessories.csv\n",
      "../../data/input/recomendation\\Football.csv\n",
      "../../data/input/recomendation\\Formal Shoes.csv\n",
      "../../data/input/recomendation\\Furniture.csv\n",
      "../../data/input/recomendation\\Gaming Accessories.csv\n",
      "../../data/input/recomendation\\Gaming Consoles.csv\n",
      "../../data/input/recomendation\\Garden and Outdoors.csv\n",
      "../../data/input/recomendation\\Gold and Diamond Jewellery.csv\n",
      "../../data/input/recomendation\\Handbags and Clutches.csv\n",
      "../../data/input/recomendation\\Headphones.csv\n",
      "../../data/input/recomendation\\Health and Personal Care.csv\n",
      "../../data/input/recomendation\\Heating and Cooling Appliances.csv\n",
      "../../data/input/recomendation\\Home Audio and Theater.csv\n",
      "../../data/input/recomendation\\Home Dcor.csv\n",
      "../../data/input/recomendation\\Home Entertainment Systems.csv\n",
      "../../data/input/recomendation\\Home Furnishing.csv\n",
      "../../data/input/recomendation\\Home Improvement.csv\n",
      "../../data/input/recomendation\\Home Storage.csv\n",
      "../../data/input/recomendation\\Household Supplies.csv\n",
      "../../data/input/recomendation\\Indian Classical.csv\n",
      "../../data/input/recomendation\\Indian Language Books.csv\n",
      "../../data/input/recomendation\\Indoor Lighting.csv\n",
      "../../data/input/recomendation\\Industrial and Scientific Supplies.csv\n",
      "../../data/input/recomendation\\Innerwear.csv\n",
      "../../data/input/recomendation\\International Music.csv\n",
      "../../data/input/recomendation\\International Toy Store.csv\n",
      "../../data/input/recomendation\\Janitorial and Sanitation Supplies.csv\n",
      "../../data/input/recomendation\\Jeans.csv\n",
      "../../data/input/recomendation\\Jewellery.csv\n",
      "../../data/input/recomendation\\Kids Clothing.csv\n",
      "../../data/input/recomendation\\Kids Fashion.csv\n",
      "../../data/input/recomendation\\Kids Shoes.csv\n",
      "../../data/input/recomendation\\Kids Watches.csv\n",
      "../../data/input/recomendation\\Kindle eBooks.csv\n",
      "../../data/input/recomendation\\Kitchen and Dining.csv\n",
      "../../data/input/recomendation\\Kitchen and Home Appliances.csv\n",
      "../../data/input/recomendation\\Kitchen Storage and Containers.csv\n",
      "../../data/input/recomendation\\Lab and Scientific.csv\n",
      "../../data/input/recomendation\\Lingerie and Nightwear.csv\n",
      "../../data/input/recomendation\\Luxury Beauty.csv\n",
      "../../data/input/recomendation\\Make-up.csv\n",
      "../../data/input/recomendation\\Mens Fashion.csv\n",
      "../../data/input/recomendation\\Motorbike Accessories and Parts.csv\n",
      "../../data/input/recomendation\\Musical Instruments and Professional Audio.csv\n",
      "../../data/input/recomendation\\Nursing and Feeding.csv\n",
      "../../data/input/recomendation\\Pantry.csv\n",
      "../../data/input/recomendation\\PC Games.csv\n",
      "../../data/input/recomendation\\Personal Care Appliances.csv\n",
      "../../data/input/recomendation\\Refrigerators.csv\n",
      "../../data/input/recomendation\\Refurbished and Open Box.csv\n",
      "../../data/input/recomendation\\Rucksacks.csv\n",
      "../../data/input/recomendation\\Running.csv\n",
      "../../data/input/recomendation\\School Bags.csv\n",
      "../../data/input/recomendation\\School Textbooks.csv\n",
      "../../data/input/recomendation\\Security Cameras.csv\n",
      "../../data/input/recomendation\\Sewing and Craft Supplies.csv\n",
      "../../data/input/recomendation\\Shirts.csv\n",
      "../../data/input/recomendation\\Shoes.csv\n",
      "../../data/input/recomendation\\Snack Foods.csv\n",
      "../../data/input/recomendation\\Speakers.csv\n",
      "../../data/input/recomendation\\Sports Collectibles.csv\n",
      "../../data/input/recomendation\\Sports Shoes.csv\n",
      "../../data/input/recomendation\\Sportswear.csv\n",
      "../../data/input/recomendation\\STEM Toys Store.csv\n",
      "../../data/input/recomendation\\Strength Training.csv\n",
      "../../data/input/recomendation\\Strollers and Prams.csv\n",
      "../../data/input/recomendation\\Subscribe and Save.csv\n",
      "../../data/input/recomendation\\Suitcases and Trolley Bags.csv\n",
      "../../data/input/recomendation\\Sunglasses.csv\n",
      "../../data/input/recomendation\\T-shirts and Polos.csv\n",
      "../../data/input/recomendation\\Televisions.csv\n",
      "../../data/input/recomendation\\Test Measure and Inspect.csv\n",
      "../../data/input/recomendation\\Textbooks.csv\n",
      "../../data/input/recomendation\\The Designer Boutique.csv\n",
      "../../data/input/recomendation\\Toys and Games.csv\n",
      "../../data/input/recomendation\\Toys Gifting Store.csv\n",
      "../../data/input/recomendation\\Travel Accessories.csv\n",
      "../../data/input/recomendation\\Travel Duffles.csv\n",
      "../../data/input/recomendation\\Value Bazaar.csv\n",
      "../../data/input/recomendation\\Video Games Deals.csv\n",
      "../../data/input/recomendation\\Wallets.csv\n",
      "../../data/input/recomendation\\Washing Machines.csv\n",
      "../../data/input/recomendation\\Watches.csv\n",
      "../../data/input/recomendation\\Western Wear.csv\n",
      "../../data/input/recomendation\\Womens Fashion.csv\n",
      "../../data/input/recomendation\\Yoga.csv\n"
     ]
    }
   ],
   "execution_count": 12
  },
  {
   "metadata": {
    "ExecuteTime": {
     "end_time": "2025-02-17T02:32:15.354024Z",
     "start_time": "2025-02-17T02:32:15.111028Z"
    }
   },
   "cell_type": "code",
   "source": [
    "import pandas as pd\n",
    "import numpy as np\n",
    "import seaborn as sns\n",
    "import matplotlib.pyplot as plt\n",
    "from collections import Counter\n",
    "from random import randint,uniform\n",
    "from scipy.sparse import csr_matrix\n",
    "from sklearn.neighbors import NearestNeighbors\n",
    "from sklearn.metrics.pairwise import cosine_similarity\n",
    "from fuzzywuzzy import process"
   ],
   "id": "9b64ab9e9789925",
   "outputs": [
    {
     "name": "stderr",
     "output_type": "stream",
     "text": [
      "C:\\Universidad\\rna_trabajo3_aplicaciones_redes_neuronales\\.venv\\lib\\site-packages\\fuzzywuzzy\\fuzz.py:11: UserWarning: Using slow pure-python SequenceMatcher. Install python-Levenshtein to remove this warning\n",
      "  warnings.warn('Using slow pure-python SequenceMatcher. Install python-Levenshtein to remove this warning')\n"
     ]
    }
   ],
   "execution_count": 31
  },
  {
   "metadata": {
    "ExecuteTime": {
     "end_time": "2025-02-17T02:20:26.983348Z",
     "start_time": "2025-02-17T02:20:22.520918Z"
    }
   },
   "cell_type": "code",
   "source": [
    "df=pd.read_csv(\"../../data/input/recomendation/Amazon-Products.csv\")\n",
    "#Eliminar primera columna 'Unnamed'\n",
    "df.drop(columns=['Unnamed: 0'],inplace=True)\n",
    "df.head()"
   ],
   "id": "afabd78821bf5aba",
   "outputs": [
    {
     "data": {
      "text/plain": [
       "                                                name main_category  \\\n",
       "0  Lloyd 1.5 Ton 3 Star Inverter Split Ac (5 In 1...    appliances   \n",
       "1  LG 1.5 Ton 5 Star AI DUAL Inverter Split AC (C...    appliances   \n",
       "2  LG 1 Ton 4 Star Ai Dual Inverter Split Ac (Cop...    appliances   \n",
       "3  LG 1.5 Ton 3 Star AI DUAL Inverter Split AC (C...    appliances   \n",
       "4  Carrier 1.5 Ton 3 Star Inverter Split AC (Copp...    appliances   \n",
       "\n",
       "       sub_category                                              image  \\\n",
       "0  Air Conditioners  https://m.media-amazon.com/images/I/31UISB90sY...   \n",
       "1  Air Conditioners  https://m.media-amazon.com/images/I/51JFb7FctD...   \n",
       "2  Air Conditioners  https://m.media-amazon.com/images/I/51JFb7FctD...   \n",
       "3  Air Conditioners  https://m.media-amazon.com/images/I/51JFb7FctD...   \n",
       "4  Air Conditioners  https://m.media-amazon.com/images/I/41lrtqXPiW...   \n",
       "\n",
       "                                                link ratings no_of_ratings  \\\n",
       "0  https://www.amazon.in/Lloyd-Inverter-Convertib...     4.2         2,255   \n",
       "1  https://www.amazon.in/LG-Convertible-Anti-Viru...     4.2         2,948   \n",
       "2  https://www.amazon.in/LG-Inverter-Convertible-...     4.2         1,206   \n",
       "3  https://www.amazon.in/LG-Convertible-Anti-Viru...     4.0            69   \n",
       "4  https://www.amazon.in/Carrier-Inverter-Split-C...     4.1           630   \n",
       "\n",
       "  discount_price actual_price  \n",
       "0        ₹32,999      ₹58,990  \n",
       "1        ₹46,490      ₹75,990  \n",
       "2        ₹34,490      ₹61,990  \n",
       "3        ₹37,990      ₹68,990  \n",
       "4        ₹34,490      ₹67,790  "
      ],
      "text/html": [
       "<div>\n",
       "<style scoped>\n",
       "    .dataframe tbody tr th:only-of-type {\n",
       "        vertical-align: middle;\n",
       "    }\n",
       "\n",
       "    .dataframe tbody tr th {\n",
       "        vertical-align: top;\n",
       "    }\n",
       "\n",
       "    .dataframe thead th {\n",
       "        text-align: right;\n",
       "    }\n",
       "</style>\n",
       "<table border=\"1\" class=\"dataframe\">\n",
       "  <thead>\n",
       "    <tr style=\"text-align: right;\">\n",
       "      <th></th>\n",
       "      <th>name</th>\n",
       "      <th>main_category</th>\n",
       "      <th>sub_category</th>\n",
       "      <th>image</th>\n",
       "      <th>link</th>\n",
       "      <th>ratings</th>\n",
       "      <th>no_of_ratings</th>\n",
       "      <th>discount_price</th>\n",
       "      <th>actual_price</th>\n",
       "    </tr>\n",
       "  </thead>\n",
       "  <tbody>\n",
       "    <tr>\n",
       "      <th>0</th>\n",
       "      <td>Lloyd 1.5 Ton 3 Star Inverter Split Ac (5 In 1...</td>\n",
       "      <td>appliances</td>\n",
       "      <td>Air Conditioners</td>\n",
       "      <td>https://m.media-amazon.com/images/I/31UISB90sY...</td>\n",
       "      <td>https://www.amazon.in/Lloyd-Inverter-Convertib...</td>\n",
       "      <td>4.2</td>\n",
       "      <td>2,255</td>\n",
       "      <td>₹32,999</td>\n",
       "      <td>₹58,990</td>\n",
       "    </tr>\n",
       "    <tr>\n",
       "      <th>1</th>\n",
       "      <td>LG 1.5 Ton 5 Star AI DUAL Inverter Split AC (C...</td>\n",
       "      <td>appliances</td>\n",
       "      <td>Air Conditioners</td>\n",
       "      <td>https://m.media-amazon.com/images/I/51JFb7FctD...</td>\n",
       "      <td>https://www.amazon.in/LG-Convertible-Anti-Viru...</td>\n",
       "      <td>4.2</td>\n",
       "      <td>2,948</td>\n",
       "      <td>₹46,490</td>\n",
       "      <td>₹75,990</td>\n",
       "    </tr>\n",
       "    <tr>\n",
       "      <th>2</th>\n",
       "      <td>LG 1 Ton 4 Star Ai Dual Inverter Split Ac (Cop...</td>\n",
       "      <td>appliances</td>\n",
       "      <td>Air Conditioners</td>\n",
       "      <td>https://m.media-amazon.com/images/I/51JFb7FctD...</td>\n",
       "      <td>https://www.amazon.in/LG-Inverter-Convertible-...</td>\n",
       "      <td>4.2</td>\n",
       "      <td>1,206</td>\n",
       "      <td>₹34,490</td>\n",
       "      <td>₹61,990</td>\n",
       "    </tr>\n",
       "    <tr>\n",
       "      <th>3</th>\n",
       "      <td>LG 1.5 Ton 3 Star AI DUAL Inverter Split AC (C...</td>\n",
       "      <td>appliances</td>\n",
       "      <td>Air Conditioners</td>\n",
       "      <td>https://m.media-amazon.com/images/I/51JFb7FctD...</td>\n",
       "      <td>https://www.amazon.in/LG-Convertible-Anti-Viru...</td>\n",
       "      <td>4.0</td>\n",
       "      <td>69</td>\n",
       "      <td>₹37,990</td>\n",
       "      <td>₹68,990</td>\n",
       "    </tr>\n",
       "    <tr>\n",
       "      <th>4</th>\n",
       "      <td>Carrier 1.5 Ton 3 Star Inverter Split AC (Copp...</td>\n",
       "      <td>appliances</td>\n",
       "      <td>Air Conditioners</td>\n",
       "      <td>https://m.media-amazon.com/images/I/41lrtqXPiW...</td>\n",
       "      <td>https://www.amazon.in/Carrier-Inverter-Split-C...</td>\n",
       "      <td>4.1</td>\n",
       "      <td>630</td>\n",
       "      <td>₹34,490</td>\n",
       "      <td>₹67,790</td>\n",
       "    </tr>\n",
       "  </tbody>\n",
       "</table>\n",
       "</div>"
      ]
     },
     "execution_count": 18,
     "metadata": {},
     "output_type": "execute_result"
    }
   ],
   "execution_count": 18
  },
  {
   "metadata": {
    "ExecuteTime": {
     "end_time": "2025-02-17T02:20:54.817959Z",
     "start_time": "2025-02-17T02:20:54.803960Z"
    }
   },
   "cell_type": "code",
   "source": "df.shape",
   "id": "28c077f171af2a36",
   "outputs": [
    {
     "data": {
      "text/plain": [
       "(551585, 9)"
      ]
     },
     "execution_count": 19,
     "metadata": {},
     "output_type": "execute_result"
    }
   ],
   "execution_count": 19
  },
  {
   "metadata": {
    "ExecuteTime": {
     "end_time": "2025-02-17T02:21:20.296878Z",
     "start_time": "2025-02-17T02:21:20.082883Z"
    }
   },
   "cell_type": "code",
   "source": "df.info()",
   "id": "1776ab1f4f4f8487",
   "outputs": [
    {
     "name": "stdout",
     "output_type": "stream",
     "text": [
      "<class 'pandas.core.frame.DataFrame'>\n",
      "RangeIndex: 551585 entries, 0 to 551584\n",
      "Data columns (total 9 columns):\n",
      " #   Column          Non-Null Count   Dtype \n",
      "---  ------          --------------   ----- \n",
      " 0   name            551585 non-null  object\n",
      " 1   main_category   551585 non-null  object\n",
      " 2   sub_category    551585 non-null  object\n",
      " 3   image           551585 non-null  object\n",
      " 4   link            551585 non-null  object\n",
      " 5   ratings         375791 non-null  object\n",
      " 6   no_of_ratings   375791 non-null  object\n",
      " 7   discount_price  490422 non-null  object\n",
      " 8   actual_price    533772 non-null  object\n",
      "dtypes: object(9)\n",
      "memory usage: 37.9+ MB\n"
     ]
    }
   ],
   "execution_count": 20
  },
  {
   "metadata": {
    "ExecuteTime": {
     "end_time": "2025-02-17T02:21:43.960592Z",
     "start_time": "2025-02-17T02:21:43.895612Z"
    }
   },
   "cell_type": "code",
   "source": "df.drop(columns=['image', 'link'],inplace=True)",
   "id": "248e2ea87ea9c321",
   "outputs": [],
   "execution_count": 21
  },
  {
   "metadata": {
    "ExecuteTime": {
     "end_time": "2025-02-17T02:22:12.090460Z",
     "start_time": "2025-02-17T02:22:11.936463Z"
    }
   },
   "cell_type": "code",
   "source": [
    "# Total percentage of null values\n",
    "print(f\"Total null value in product table:\\n{df.isnull().sum()/len(df)}\")"
   ],
   "id": "a299a6c4fb144e7b",
   "outputs": [
    {
     "name": "stdout",
     "output_type": "stream",
     "text": [
      "Total null value in product table:\n",
      "name              0.000000\n",
      "main_category     0.000000\n",
      "sub_category      0.000000\n",
      "ratings           0.318707\n",
      "no_of_ratings     0.318707\n",
      "discount_price    0.110886\n",
      "actual_price      0.032294\n",
      "dtype: float64\n"
     ]
    }
   ],
   "execution_count": 22
  },
  {
   "metadata": {
    "ExecuteTime": {
     "end_time": "2025-02-17T02:22:23.698718Z",
     "start_time": "2025-02-17T02:22:23.632721Z"
    }
   },
   "cell_type": "code",
   "source": "df['main_category'].value_counts()",
   "id": "6c04d3424ab40c78",
   "outputs": [
    {
     "data": {
      "text/plain": [
       "main_category\n",
       "accessories                116141\n",
       "men's clothing              76656\n",
       "women's clothing            76512\n",
       "tv, audio & cameras         68659\n",
       "men's shoes                 57456\n",
       "appliances                  33096\n",
       "stores                      32903\n",
       "home & kitchen              14568\n",
       "kids' fashion               13488\n",
       "sports & fitness            12648\n",
       "bags & luggage              10416\n",
       "beauty & health             10122\n",
       "car & motorbike              7080\n",
       "toys & baby products         6216\n",
       "women's shoes                5472\n",
       "industrial supplies          4104\n",
       "grocery & gourmet foods      3312\n",
       "pet supplies                 1632\n",
       "music                        1080\n",
       "home, kitchen, pets            24\n",
       "Name: count, dtype: int64"
      ]
     },
     "execution_count": 23,
     "metadata": {},
     "output_type": "execute_result"
    }
   ],
   "execution_count": 23
  },
  {
   "metadata": {
    "ExecuteTime": {
     "end_time": "2025-02-17T02:24:14.405110Z",
     "start_time": "2025-02-17T02:24:14.333108Z"
    }
   },
   "cell_type": "code",
   "source": [
    "# unique values of ratings column\n",
    "print(f\"Unique values of ratings:\\n{df['ratings'].unique()}\")\n",
    "# unique values of no_of_ratings column\n",
    "print(f\"Unique values of no_of_ratings:\\n{df['no_of_ratings'].unique()}\")"
   ],
   "id": "36b7b8b0f70e46a8",
   "outputs": [
    {
     "name": "stdout",
     "output_type": "stream",
     "text": [
      "Unique values of ratings:\n",
      "['4.2' '4.0' '4.1' '4.3' '3.9' '3.8' '3.5' nan '4.6' '3.3' '3.4' '3.7'\n",
      " '2.9' '5.0' '4.4' '3.6' '2.7' '4.5' '3.0' '3.1' '3.2' '4.8' '4.7' '2.5'\n",
      " '1.0' '2.6' '2.8' '2.3' '1.7' 'Get' '1.8' '2.4' '4.9' '2.2' '1.6' '1.9'\n",
      " '2.0' '1.4' '2.1' 'FREE' '1.2' '1.3' '1.5' '₹68.99' '₹65' '1.1' '₹70'\n",
      " '₹100' '₹99' '₹2.99']\n",
      "Unique values of no_of_ratings:\n",
      "['2,255' '2,948' '1,206' ... '3,329' '7,141' '4,406']\n"
     ]
    }
   ],
   "execution_count": 25
  },
  {
   "metadata": {
    "ExecuteTime": {
     "end_time": "2025-02-17T02:27:03.995154Z",
     "start_time": "2025-02-17T02:27:03.585954Z"
    }
   },
   "cell_type": "code",
   "source": [
    "# no_of_ratings column\n",
    "df['no_of_ratings'] = df['no_of_ratings'].str.replace(\",\",\"\")\n",
    "# converting to interger column\n",
    "df['no_of_ratings'] = pd.to_numeric(df['no_of_ratings'], errors=\"coerce\", downcast=\"integer\")"
   ],
   "id": "9eb3f10059f00d7c",
   "outputs": [],
   "execution_count": 26
  },
  {
   "metadata": {
    "ExecuteTime": {
     "end_time": "2025-02-17T02:28:44.345104Z",
     "start_time": "2025-02-17T02:28:41.052113Z"
    }
   },
   "cell_type": "code",
   "source": [
    "# ratings column\n",
    "# Identifying string in column based on regex and replacing with default ratings -> 3.0\n",
    "df = df.replace({\n",
    "    'ratings': {r'₹\\w+[.]\\w+':'3.0', r'FREE':'3.0', r'Get':'3.0', r'₹\\w+':'3.0'},\n",
    "}, regex=True)\n",
    "df['ratings'] = pd.to_numeric(df['ratings'], errors='coerce', downcast='integer')\n",
    "\n",
    "# convert price and discount column to integer\n",
    "df['actual_price'] = pd.to_numeric(df['actual_price'].str.replace(\"₹\",\"\").str.replace(\",\",\"\"), errors='coerce', downcast='integer')\n",
    "df['discount_price'] = pd.to_numeric(df['discount_price'].str.replace(\"₹\",\"\").str.replace(\",\",\"\"), errors='coerce', downcast='integer')"
   ],
   "id": "62d4c4ba25d708c2",
   "outputs": [],
   "execution_count": 27
  },
  {
   "metadata": {
    "ExecuteTime": {
     "end_time": "2025-02-17T02:29:28.785615Z",
     "start_time": "2025-02-17T02:29:28.757627Z"
    }
   },
   "cell_type": "code",
   "source": [
    "# Handling Null Values\n",
    "df['ratings'].fillna(round(df['ratings'].mean(),1), inplace=True) # replacing null values with mean\n",
    "df['no_of_ratings'].fillna(round(df['no_of_ratings'].mean()), inplace=True) # replacing null values with mean"
   ],
   "id": "6bfb78be15ada81b",
   "outputs": [
    {
     "name": "stderr",
     "output_type": "stream",
     "text": [
      "C:\\Users\\David\\AppData\\Local\\Temp\\ipykernel_8852\\1477565086.py:2: FutureWarning: A value is trying to be set on a copy of a DataFrame or Series through chained assignment using an inplace method.\n",
      "The behavior will change in pandas 3.0. This inplace method will never work because the intermediate object on which we are setting values always behaves as a copy.\n",
      "\n",
      "For example, when doing 'df[col].method(value, inplace=True)', try using 'df.method({col: value}, inplace=True)' or df[col] = df[col].method(value) instead, to perform the operation inplace on the original object.\n",
      "\n",
      "\n",
      "  df['ratings'].fillna(round(df['ratings'].mean(),1), inplace=True) # replacing null values with mean\n",
      "C:\\Users\\David\\AppData\\Local\\Temp\\ipykernel_8852\\1477565086.py:3: FutureWarning: A value is trying to be set on a copy of a DataFrame or Series through chained assignment using an inplace method.\n",
      "The behavior will change in pandas 3.0. This inplace method will never work because the intermediate object on which we are setting values always behaves as a copy.\n",
      "\n",
      "For example, when doing 'df[col].method(value, inplace=True)', try using 'df.method({col: value}, inplace=True)' or df[col] = df[col].method(value) instead, to perform the operation inplace on the original object.\n",
      "\n",
      "\n",
      "  df['no_of_ratings'].fillna(round(df['no_of_ratings'].mean()), inplace=True) # replacing null values with mean\n"
     ]
    }
   ],
   "execution_count": 28
  },
  {
   "metadata": {
    "ExecuteTime": {
     "end_time": "2025-02-17T02:30:47.714964Z",
     "start_time": "2025-02-17T02:30:33.147378Z"
    }
   },
   "cell_type": "code",
   "source": [
    "# Handling Null Values in price and discount column\n",
    "# Filling the null values based on sub category, grouping the rows by sub category,\n",
    "# find the mean -> replace the NULL values\n",
    "\n",
    "mean_actual_price_by_sub_category = round(df.groupby('sub_category')[['actual_price','discount_price']].mean()).reset_index()\n",
    "\n",
    "# Creating dictionary of sub_category with respective mean\n",
    "# For eg {\"Air Conditioners \": 54815.0, \"All Applicances\": 7017..0 ..........}\n",
    "mean_actual_price_dict = mean_actual_price_by_sub_category.set_index('sub_category')['actual_price'].to_dict()\n",
    "mean_discount_price_dict = mean_actual_price_by_sub_category.set_index('sub_category')['discount_price'].to_dict()\n",
    "\n",
    "# replacing the null values with the mean\n",
    "df['actual_price'] = df.apply(lambda x: x['actual_price'] if pd.notna(x['actual_price']) else mean_actual_price_dict.get(x['sub_category']), axis=1)\n",
    "df['discount_price'] = df.apply(lambda x: x['discount_price'] if pd.notna(x['discount_price']) else mean_discount_price_dict.get(x['sub_category']), axis=1)\n",
    "\n",
    "# Drop Duplicates\n",
    "df = df.drop_duplicates()"
   ],
   "id": "49d2578cd225f06",
   "outputs": [],
   "execution_count": 29
  },
  {
   "metadata": {
    "ExecuteTime": {
     "end_time": "2025-02-17T02:32:32.111995Z",
     "start_time": "2025-02-17T02:32:30.550085Z"
    }
   },
   "cell_type": "code",
   "source": [
    "#Distribution of product by ratings\n",
    "sns.countplot(x='ratings',data=df)\n",
    "plt.title(\"Distribution of df rating\",fontsize=13)\n",
    "plt.xticks(rotation=90)\n",
    "plt.show()"
   ],
   "id": "b24c2df460bbd38b",
   "outputs": [
    {
     "data": {
      "text/plain": [
       "<Figure size 640x480 with 1 Axes>"
      ],
      "image/png": "[encoded data removed]"
     },
     "metadata": {},
     "output_type": "display_data"
    }
   ],
   "execution_count": 32
  },
  {
   "metadata": {
    "ExecuteTime": {
     "end_time": "2025-02-17T02:33:24.637096Z",
     "start_time": "2025-02-17T02:33:22.574914Z"
    }
   },
   "cell_type": "code",
   "source": [
    "df['productId'] = pd.factorize(df['name'])[0] + 1 # + 1 to start from 1, not 0\n",
    "\n",
    "print(f\"Unique Count of product name: {df['name'].nunique()}\")\n",
    "print(f\"Unique Count of product Id: {df['productId'].nunique()}\")"
   ],
   "id": "c7674e259d5073cf",
   "outputs": [
    {
     "name": "stdout",
     "output_type": "stream",
     "text": [
      "Unique Count of product name: 396210\n",
      "Unique Count of product Id: 396210\n"
     ]
    }
   ],
   "execution_count": 33
  },
  {
   "metadata": {
    "ExecuteTime": {
     "end_time": "2025-02-17T03:05:22.541534Z",
     "start_time": "2025-02-17T03:05:22.266542Z"
    }
   },
   "cell_type": "code",
   "source": [
    "#Analisis preliminar de dataset actual\n",
    "print(df.info())\n",
    "print(df.describe())\n"
   ],
   "id": "cf7a1ae19e1e38b4",
   "outputs": [
    {
     "name": "stdout",
     "output_type": "stream",
     "text": [
      "<class 'pandas.core.frame.DataFrame'>\n",
      "Index: 515691 entries, 0 to 551584\n",
      "Data columns (total 9 columns):\n",
      " #   Column                Non-Null Count   Dtype  \n",
      "---  ------                --------------   -----  \n",
      " 0   name                  515691 non-null  object \n",
      " 1   main_category         515691 non-null  object \n",
      " 2   sub_category          515691 non-null  object \n",
      " 3   ratings               515691 non-null  float64\n",
      " 4   no_of_ratings         515691 non-null  float64\n",
      " 5   discount_price        515691 non-null  float64\n",
      " 6   actual_price          515691 non-null  float64\n",
      " 7   productId             515691 non-null  int64  \n",
      " 8   random_number_userId  515691 non-null  int64  \n",
      "dtypes: float64(4), int64(2), object(3)\n",
      "memory usage: 55.5+ MB\n",
      "None\n",
      "             ratings  no_of_ratings  discount_price  actual_price  \\\n",
      "count  515691.000000  515691.000000    5.156910e+05  5.156910e+05   \n",
      "mean        3.811343     834.529746    2.653901e+03  2.396413e+04   \n",
      "std         0.634186    7163.421061    9.239982e+03  1.378636e+07   \n",
      "min         1.000000       1.000000    8.000000e+00  0.000000e+00   \n",
      "25%         3.700000       8.000000    3.990000e+02  9.980000e+02   \n",
      "50%         3.800000     109.000000    7.130000e+02  1.599000e+03   \n",
      "75%         4.100000     841.000000    1.599000e+03  3.199000e+03   \n",
      "max         5.000000  589547.000000    1.249990e+06  9.900000e+09   \n",
      "\n",
      "           productId  random_number_userId  \n",
      "count  515691.000000         515691.000000  \n",
      "mean   183077.354825              2.999391  \n",
      "std    115015.646782              1.415762  \n",
      "min         1.000000              1.000000  \n",
      "25%     84979.500000              2.000000  \n",
      "50%    174478.000000              3.000000  \n",
      "75%    281595.000000              4.000000  \n",
      "max    396210.000000              5.000000  \n"
     ]
    }
   ],
   "execution_count": 46
  },
  {
   "metadata": {
    "ExecuteTime": {
     "end_time": "2025-02-17T03:06:38.102224Z",
     "start_time": "2025-02-17T03:06:34.505212Z"
    }
   },
   "cell_type": "code",
   "source": [
    "#distribución de ratings\n",
    "plt.figure(figsize=(10,5))\n",
    "sns.histplot(df['ratings'], bins=10, kde=True)\n",
    "plt.title(\"Distribución de Ratings\")\n",
    "plt.xlabel(\"Rating\")\n",
    "plt.ylabel(\"Frecuencia\")\n",
    "plt.show()"
   ],
   "id": "9fa5e41dde2352e4",
   "outputs": [
    {
     "data": {
      "text/plain": [
       "<Figure size 1000x500 with 1 Axes>"
      ],
      "image/png": "[encoded data removed]"
     },
     "metadata": {},
     "output_type": "display_data"
    }
   ],
   "execution_count": 47
  },
  {
   "metadata": {
    "ExecuteTime": {
     "end_time": "2025-02-17T03:07:12.122325Z",
     "start_time": "2025-02-17T03:07:10.273652Z"
    }
   },
   "cell_type": "code",
   "source": [
    "#Productos con más calificaciones\n",
    "top_products = df.groupby('name')['ratings'].count().sort_values(ascending=False).head(10)\n",
    "plt.figure(figsize=(12,6))\n",
    "sns.barplot(x=top_products.values, y=top_products.index, palette=\"viridis\")\n",
    "plt.title(\"Top 10 Productos con Más Calificaciones\")\n",
    "plt.xlabel(\"Número de Calificaciones\")\n",
    "plt.ylabel(\"Producto\")\n",
    "plt.show()\n"
   ],
   "id": "9645a1b32cdc11bf",
   "outputs": [
    {
     "name": "stderr",
     "output_type": "stream",
     "text": [
      "C:\\Users\\David\\AppData\\Local\\Temp\\ipykernel_8852\\794072994.py:4: FutureWarning: \n",
      "\n",
      "Passing `palette` without assigning `hue` is deprecated and will be removed in v0.14.0. Assign the `y` variable to `hue` and set `legend=False` for the same effect.\n",
      "\n",
      "  sns.barplot(x=top_products.values, y=top_products.index, palette=\"viridis\")\n"
     ]
    },
    {
     "data": {
      "text/plain": [
       "<Figure size 1200x600 with 1 Axes>"
      ],
      "image/png": "[encoded data removed]"
     },
     "metadata": {},
     "output_type": "display_data"
    }
   ],
   "execution_count": 48
  },
  {
   "metadata": {
    "ExecuteTime": {
     "end_time": "2025-02-17T03:10:50.194707Z",
     "start_time": "2025-02-17T03:10:46.412238Z"
    }
   },
   "cell_type": "code",
   "source": [
    "DATA_PATH = os.path.join('..', '..', 'data', 'input', 'recomendation')\n",
    "df.to_csv(os.path.join(DATA_PATH, 'data_processed.csv'), index=False)"
   ],
   "id": "6617e53cba15a094",
   "outputs": [],
   "execution_count": 49
  }
 ],
 "metadata": {
  "kernelspec": {
   "display_name": "Python 3",
   "language": "python",
   "name": "python3"
  },
  "language_info": {
   "codemirror_mode": {
    "name": "ipython",
    "version": 2
   },
   "file_extension": ".py",
   "mimetype": "text/x-python",
   "name": "python",
   "nbconvert_exporter": "python",
   "pygments_lexer": "ipython2",
   "version": "2.7.6"
  }
 },
 "nbformat": 4,
 "nbformat_minor": 5
}
